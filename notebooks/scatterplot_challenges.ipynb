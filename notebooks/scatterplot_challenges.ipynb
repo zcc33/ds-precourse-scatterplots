{
 "cells": [
  {
   "cell_type": "markdown",
   "metadata": {},
   "source": [
    "# Scatterplots and Line Graphs\n",
    "\n",
    "---\n",
    "\n",
    "## Challenges\n",
    "\n",
    "For the lessons on plotting in DSI precourse, instead of doing regular challenges - you're being asked to write the code to make some basic plots in this Jupyter Notebook before committing your work and submitting the URL to your repository.\n",
    "\n",
    "To do so, you must be sure to first fork and clone this repo, and if you aren't sure how to do that, you can look back to those instructions [here](https://learn-2.galvanize.com/content_link/github/gSchool/dsi-prep-module-setup/units/04_github/03_fork_clone_pull.md).\n",
    "\n",
    "The completion of this module requires a basic understanding of `numpy`, `pandas`, and `matplotlib.pyplot`. Please __*do not*__ use any of the pandas built-in visualization tools.\n",
    "\n",
    "Lastly, you'll need to execute the cells with existing code to import the modules, and the data."
   ]
  },
  {
   "cell_type": "markdown",
   "metadata": {},
   "source": [
    "### Challenge 1\n",
    "\n",
    "For the scatter plot portion of this assignment, you'll be using data from the popular [cars dataset](https://s3-us-west-2.amazonaws.com/learn-assets.galvanize.com/gSchool/ds-curriculum/precourse/cars.csv)."
   ]
  },
  {
   "cell_type": "code",
   "execution_count": 1,
   "metadata": {},
   "outputs": [
    {
     "data": {
      "text/html": [
       "<div>\n",
       "<style scoped>\n",
       "    .dataframe tbody tr th:only-of-type {\n",
       "        vertical-align: middle;\n",
       "    }\n",
       "\n",
       "    .dataframe tbody tr th {\n",
       "        vertical-align: top;\n",
       "    }\n",
       "\n",
       "    .dataframe thead th {\n",
       "        text-align: right;\n",
       "    }\n",
       "</style>\n",
       "<table border=\"1\" class=\"dataframe\">\n",
       "  <thead>\n",
       "    <tr style=\"text-align: right;\">\n",
       "      <th></th>\n",
       "      <th>make_model</th>\n",
       "      <th>mpg</th>\n",
       "      <th>cyl</th>\n",
       "      <th>disp</th>\n",
       "      <th>hp</th>\n",
       "      <th>drat</th>\n",
       "      <th>wt</th>\n",
       "      <th>qsec</th>\n",
       "      <th>vs</th>\n",
       "      <th>am</th>\n",
       "      <th>gear</th>\n",
       "      <th>carb</th>\n",
       "    </tr>\n",
       "  </thead>\n",
       "  <tbody>\n",
       "    <tr>\n",
       "      <td>0</td>\n",
       "      <td>Mazda RX4</td>\n",
       "      <td>21.0</td>\n",
       "      <td>6</td>\n",
       "      <td>160.0</td>\n",
       "      <td>110</td>\n",
       "      <td>3.90</td>\n",
       "      <td>2.620</td>\n",
       "      <td>16.46</td>\n",
       "      <td>0</td>\n",
       "      <td>1</td>\n",
       "      <td>4</td>\n",
       "      <td>4</td>\n",
       "    </tr>\n",
       "    <tr>\n",
       "      <td>1</td>\n",
       "      <td>Mazda RX4 Wag</td>\n",
       "      <td>21.0</td>\n",
       "      <td>6</td>\n",
       "      <td>160.0</td>\n",
       "      <td>110</td>\n",
       "      <td>3.90</td>\n",
       "      <td>2.875</td>\n",
       "      <td>17.02</td>\n",
       "      <td>0</td>\n",
       "      <td>1</td>\n",
       "      <td>4</td>\n",
       "      <td>4</td>\n",
       "    </tr>\n",
       "    <tr>\n",
       "      <td>2</td>\n",
       "      <td>Datsun 710</td>\n",
       "      <td>22.8</td>\n",
       "      <td>4</td>\n",
       "      <td>108.0</td>\n",
       "      <td>93</td>\n",
       "      <td>3.85</td>\n",
       "      <td>2.320</td>\n",
       "      <td>18.61</td>\n",
       "      <td>1</td>\n",
       "      <td>1</td>\n",
       "      <td>4</td>\n",
       "      <td>1</td>\n",
       "    </tr>\n",
       "    <tr>\n",
       "      <td>3</td>\n",
       "      <td>Hornet 4 Drive</td>\n",
       "      <td>21.4</td>\n",
       "      <td>6</td>\n",
       "      <td>258.0</td>\n",
       "      <td>110</td>\n",
       "      <td>3.08</td>\n",
       "      <td>3.215</td>\n",
       "      <td>19.44</td>\n",
       "      <td>1</td>\n",
       "      <td>0</td>\n",
       "      <td>3</td>\n",
       "      <td>1</td>\n",
       "    </tr>\n",
       "    <tr>\n",
       "      <td>4</td>\n",
       "      <td>Hornet Sportabout</td>\n",
       "      <td>18.7</td>\n",
       "      <td>8</td>\n",
       "      <td>360.0</td>\n",
       "      <td>175</td>\n",
       "      <td>3.15</td>\n",
       "      <td>3.440</td>\n",
       "      <td>17.02</td>\n",
       "      <td>0</td>\n",
       "      <td>0</td>\n",
       "      <td>3</td>\n",
       "      <td>2</td>\n",
       "    </tr>\n",
       "  </tbody>\n",
       "</table>\n",
       "</div>"
      ],
      "text/plain": [
       "          make_model   mpg  cyl   disp   hp  drat     wt   qsec  vs  am  gear  \\\n",
       "0          Mazda RX4  21.0    6  160.0  110  3.90  2.620  16.46   0   1     4   \n",
       "1      Mazda RX4 Wag  21.0    6  160.0  110  3.90  2.875  17.02   0   1     4   \n",
       "2         Datsun 710  22.8    4  108.0   93  3.85  2.320  18.61   1   1     4   \n",
       "3     Hornet 4 Drive  21.4    6  258.0  110  3.08  3.215  19.44   1   0     3   \n",
       "4  Hornet Sportabout  18.7    8  360.0  175  3.15  3.440  17.02   0   0     3   \n",
       "\n",
       "   carb  \n",
       "0     4  \n",
       "1     4  \n",
       "2     1  \n",
       "3     1  \n",
       "4     2  "
      ]
     },
     "execution_count": 1,
     "metadata": {},
     "output_type": "execute_result"
    }
   ],
   "source": [
    "import numpy as np\n",
    "import matplotlib.pyplot as plt\n",
    "import pandas as pd\n",
    "\n",
    "cars_data = pd.read_csv('../data/cars.csv', sep='|')\n",
    "cars_data.rename(columns={'Unnamed: 0': 'make_model'}, inplace=True)\n",
    "cars_data.head()"
   ]
  },
  {
   "cell_type": "markdown",
   "metadata": {},
   "source": [
    "---\n",
    "\n",
    "Seeing the structure of the data, in the dataframe above, create a scatter plot which shows the following:\n",
    "\n",
    "* `disp` on the x-axis\n",
    "* `mpg` on the y-axis using `blue` markers of the `'0'` shape\n",
    "* A title which reads `\"Miles per gallon vs. Engine displacement\"\n",
    "* An x-axis title which reads `\"Engine Displacement (cubic inches)\"`\n",
    "* A y-axis title which reads `\"Efficiency (Miles per gallon)\"`"
   ]
  },
  {
   "cell_type": "markdown",
   "metadata": {},
   "source": [
    "1. Enter the code for your plot below\n",
    "2. Execute this cell after you've entered your code to display\n",
    "   the plot below (using `plt.show()`)"
   ]
  },
  {
   "cell_type": "code",
   "execution_count": 21,
   "metadata": {},
   "outputs": [
    {
     "data": {
      "image/png": "[encoded data removed]",
      "text/plain": [
       "<Figure size 720x720 with 1 Axes>"
      ]
     },
     "metadata": {
      "needs_background": "light"
     },
     "output_type": "display_data"
    }
   ],
   "source": [
    "# Enter your code here\n",
    "plt.rcParams[\"figure.figsize\"] = (10,10)\n",
    "plt.figure()\n",
    "plt.scatter(cars_data[\"disp\"], cars_data[\"mpg\"], marker='$0$', color=\"blue\")\n",
    "plt.title(\"Miles per gallon vs. Engine displacement\")\n",
    "plt.xlabel(\"Engine Displacement (cubic inches)\")\n",
    "plt.ylabel(\"Efficiency (Miles per gallon)\")\n",
    "plt.show()"
   ]
  },
  {
   "cell_type": "markdown",
   "metadata": {},
   "source": [
    "3. Once you're happy with your plot, paste your code in the cell below. Replace `plt.show()` with `plt.savefig('../images/mpg_displacement.png')` and execute the cell to export the image to a file\n",
    "\n",
    "This is a technique that is not shown in the lesson, but is perhaps the most common way that you might create an image which you are able to share or implement in a presentation."
   ]
  },
  {
   "cell_type": "code",
   "execution_count": 22,
   "metadata": {},
   "outputs": [
    {
     "data": {
      "image/png": "[encoded data removed]",
      "text/plain": [
       "<Figure size 720x720 with 1 Axes>"
      ]
     },
     "metadata": {
      "needs_background": "light"
     },
     "output_type": "display_data"
    }
   ],
   "source": [
    "# Paste (and modify) your code here\n",
    "\n",
    "plt.rcParams[\"figure.figsize\"] = (10,10)\n",
    "plt.figure()\n",
    "plt.scatter(cars_data[\"disp\"], cars_data[\"mpg\"], marker='$0$', color=\"blue\")\n",
    "plt.title(\"Miles per gallon vs. Engine displacement\")\n",
    "plt.xlabel(\"Engine Displacement (cubic inches)\")\n",
    "plt.ylabel(\"Efficiency (Miles per gallon)\")\n",
    "plt.savefig('../images/mpg_displacement.png')"
   ]
  },
  {
   "cell_type": "markdown",
   "metadata": {},
   "source": [
    "<br><br><br><br><br><br><br><br>\n",
    "\n",
    "---\n",
    "\n",
    "### Challenge 2\n",
    "\n",
    "For the __*line plot*__ portion of this assignment, you'll be using a dataset showing the per-share quarterly profits (dividends) of the company Johnson & Johnson starting in 1960, ending in 1980.\n",
    "\n",
    "You'll need to do a little work to organize this data in a way that is useful for plotting.\n",
    "\n",
    "```\n",
    "      Qtr1  Qtr2  Qtr3  Qtr4\n",
    "      ----  ----  ----  ----\n",
    "1960  0.71  0.63  0.85  0.44\n",
    "1961  0.61  0.69  0.92  0.55\n",
    "1962  0.72  0.77  0.92  0.60\n",
    "1963  0.83  0.80  1.00  0.77\n",
    "1964  0.92  1.00  1.24  1.00\n",
    "1965  1.16  1.30  1.45  1.25\n",
    "1966  1.26  1.38  1.86  1.56\n",
    "1967  1.53  1.59  1.83  1.86\n",
    "1968  1.53  2.07  2.34  2.25\n",
    "1969  2.16  2.43  2.70  2.25\n",
    "1970  2.79  3.42  3.69  3.60\n",
    "1971  3.60  4.32  4.32  4.05\n",
    "1972  4.86  5.04  5.04  4.41\n",
    "1973  5.58  5.85  6.57  5.31\n",
    "1974  6.03  6.39  6.93  5.85\n",
    "1975  6.93  7.74  7.83  6.12\n",
    "1976  7.74  8.91  8.28  6.84\n",
    "1977  9.54 10.26  9.54  8.73\n",
    "1978 11.88 12.06 12.15  8.91\n",
    "1979 14.04 12.96 14.85  9.99\n",
    "1980 16.20 14.67 16.02 11.61\n",
    "\n",
    "```\n",
    "\n",
    "* You should produce a line graph\n",
    "* The x-axis should show the `time`. You will need to use `np.linspace()` to create an array of x data which aligns with each of the quarterly data points. That is, you will need an array of evenly spaced values starting at 1960, ending at 1981 (exclusive) with four points per year, i.e. `[1960, 1960.25, 1960.5, 1960.75, 1961, .... , 1980.75]`\n",
    "* The y-axis should have the earnings data\n",
    "* The x-axis label should be `\"Year\"`\n",
    "* The y-axis label should be `\"Earnings per share (U.S. Dollars)\"`\n",
    "* The title of the plot should be `\"Johnson and Johnson Quarterly Earnings\"`\n"
   ]
  },
  {
   "cell_type": "code",
   "execution_count": 70,
   "metadata": {},
   "outputs": [
    {
     "name": "stdout",
     "output_type": "stream",
     "text": [
      "[1960.         1960.25301205 1960.5060241  1960.75903614 1961.01204819\n",
      " 1961.26506024 1961.51807229 1961.77108434 1962.02409639 1962.27710843\n",
      " 1962.53012048 1962.78313253 1963.03614458 1963.28915663 1963.54216867\n",
      " 1963.79518072 1964.04819277 1964.30120482 1964.55421687 1964.80722892\n",
      " 1965.06024096 1965.31325301 1965.56626506 1965.81927711 1966.07228916\n",
      " 1966.3253012  1966.57831325 1966.8313253  1967.08433735 1967.3373494\n",
      " 1967.59036145 1967.84337349 1968.09638554 1968.34939759 1968.60240964\n",
      " 1968.85542169 1969.10843373 1969.36144578 1969.61445783 1969.86746988\n",
      " 1970.12048193 1970.37349398 1970.62650602 1970.87951807 1971.13253012\n",
      " 1971.38554217 1971.63855422 1971.89156627 1972.14457831 1972.39759036\n",
      " 1972.65060241 1972.90361446 1973.15662651 1973.40963855 1973.6626506\n",
      " 1973.91566265 1974.1686747  1974.42168675 1974.6746988  1974.92771084\n",
      " 1975.18072289 1975.43373494 1975.68674699 1975.93975904 1976.19277108\n",
      " 1976.44578313 1976.69879518 1976.95180723 1977.20481928 1977.45783133\n",
      " 1977.71084337 1977.96385542 1978.21686747 1978.46987952 1978.72289157\n",
      " 1978.97590361 1979.22891566 1979.48192771 1979.73493976 1979.98795181\n",
      " 1980.24096386 1980.4939759  1980.74698795 1981.        ]\n"
     ]
    },
    {
     "data": {
      "text/plain": [
       "Text(0.5, 1.0, 'Johnson and Johnson Quarterly Earnings')"
      ]
     },
     "execution_count": 70,
     "metadata": {},
     "output_type": "execute_result"
    },
    {
     "data": {
      "image/png": "[encoded data removed]",
      "text/plain": [
       "<Figure size 720x720 with 1 Axes>"
      ]
     },
     "metadata": {
      "needs_background": "light"
     },
     "output_type": "display_data"
    }
   ],
   "source": [
    "'''\n",
    "0.71  0.63  0.85  0.44\n",
    "0.61  0.69  0.92  0.55\n",
    "0.72  0.77  0.92  0.60\n",
    "0.83  0.80  1.00  0.77\n",
    "0.92  1.00  1.24  1.00\n",
    "1.16  1.30  1.45  1.25\n",
    "1.26  1.38  1.86  1.56\n",
    "1.53  1.59  1.83  1.86\n",
    "1.53  2.07  2.34  2.25\n",
    "2.16  2.43  2.70  2.25\n",
    "2.79  3.42  3.69  3.60\n",
    "3.60  4.32  4.32  4.05\n",
    "4.86  5.04  5.04  4.41\n",
    "5.58  5.85  6.57  5.31\n",
    "6.03  6.39  6.93  5.85\n",
    "6.93  7.74  7.83  6.12\n",
    "7.74  8.91  8.28  6.84\n",
    "9.54 10.26  9.54  8.73\n",
    "11.88 12.06 12.15  8.91\n",
    "14.04 12.96 14.85  9.99\n",
    "16.20 14.67 16.02 11.61\n",
    "'''\n",
    "import pandas as pd\n",
    "data = np.loadtxt(\"../data/data.txt\")\n",
    "data = data.flatten()\n",
    "x = np.linspace(1960,1981,num=84)\n",
    "print(x)\n",
    "# Format the data into a usable format below:\n",
    "time=np.arange(1960, 1981)\n",
    "plt.plot(time)\n",
    "\n",
    "plt.xlabel(\"Year\")\n",
    "plt.ylabel(\"Earnings per share (U.S. Dollars)\")\n",
    "plt.title(\"Johnson and Johnson Quarterly Earnings\")"
   ]
  },
  {
   "cell_type": "markdown",
   "metadata": {},
   "source": [
    "1. Enter the code for your plot below\n",
    "2. Execute this cell after you've entered your code to display\n",
    "   the plot below (using `plt.show()`)"
   ]
  },
  {
   "cell_type": "code",
   "execution_count": 1,
   "metadata": {},
   "outputs": [],
   "source": [
    "# Your code below\n",
    "\n"
   ]
  },
  {
   "cell_type": "markdown",
   "metadata": {},
   "source": [
    "3. Once you're happy with your plot, paste your code in the cell below. Replace `plt.show()` with `plt.savefig('../images/jj_earnings.png')` and execute the cell to export the image to a file\n",
    "\n",
    "This is a technique that is not shown in the lesson, but is perhaps the most common way that you might create an image which you are able to share or implement in a presentation."
   ]
  },
  {
   "cell_type": "code",
   "execution_count": null,
   "metadata": {},
   "outputs": [],
   "source": [
    "# Code to save figure\n",
    "\n"
   ]
  }
 ],
 "metadata": {
  "kernelspec": {
   "display_name": "Python 3",
   "language": "python",
   "name": "python3"
  },
  "language_info": {
   "codemirror_mode": {
    "name": "ipython",
    "version": 3
   },
   "file_extension": ".py",
   "mimetype": "text/x-python",
   "name": "python",
   "nbconvert_exporter": "python",
   "pygments_lexer": "ipython3",
   "version": "3.7.4"
  }
 },
 "nbformat": 4,
 "nbformat_minor": 4
}
